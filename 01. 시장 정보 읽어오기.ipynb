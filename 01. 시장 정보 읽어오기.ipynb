{
 "cells": [
  {
   "cell_type": "markdown",
   "id": "d6dbc93f",
   "metadata": {},
   "source": [
    "# 01. 시장정보 읽어오기"
   ]
  },
  {
   "cell_type": "code",
   "execution_count": 11,
   "id": "cd512007",
   "metadata": {},
   "outputs": [
    {
     "name": "stdout",
     "output_type": "stream",
     "text": [
      "3S\n",
      "AJ네트웍스\n",
      "AK홀딩스\n",
      "APS홀딩스\n",
      "AP시스템\n",
      "AP위성\n",
      "BGF\n",
      "BGF리테일\n",
      "BNGT\n",
      "BNK금융지주\n"
     ]
    }
   ],
   "source": [
    "from pykrx import stock\n",
    "from pykrx.website.krx.market import ticker\n",
    "\n",
    "#종목 코드 읽어오기\n",
    "stock_code = stock.get_market_ticker_list(date=\"20220401\", market=\"ALL\")\n",
    "for i in range(10):\n",
    "    n = ticker.get_stock_name(stock_code[i])\n",
    "    print(n)\n",
    "# stock_code = stock.get_market_ticker_list(date=\"20220401\", market=\"KOSDAQ\")\n",
    "# stock_code = stock.get_market_ticker_list(date=\"20220401\", market=\"KOSPI\")\n",
    "# stock_code = stock.get_market_ticker_list(date=\"20220401\", market=\"KONEX\")"
   ]
  },
  {
   "cell_type": "markdown",
   "id": "c156cdf0",
   "metadata": {},
   "source": [
    "## 종목명으로 종목 코드 읽어오기"
   ]
  },
  {
   "cell_type": "code",
   "execution_count": 37,
   "id": "8933ff21",
   "metadata": {},
   "outputs": [
    {
     "data": {
      "text/html": [
       "<div>\n",
       "<style scoped>\n",
       "    .dataframe tbody tr th:only-of-type {\n",
       "        vertical-align: middle;\n",
       "    }\n",
       "\n",
       "    .dataframe tbody tr th {\n",
       "        vertical-align: top;\n",
       "    }\n",
       "\n",
       "    .dataframe thead th {\n",
       "        text-align: right;\n",
       "    }\n",
       "</style>\n",
       "<table border=\"1\" class=\"dataframe\">\n",
       "  <thead>\n",
       "    <tr style=\"text-align: right;\">\n",
       "      <th></th>\n",
       "      <th>full_code</th>\n",
       "      <th>short_code</th>\n",
       "      <th>codeName</th>\n",
       "      <th>marketCode</th>\n",
       "      <th>marketName</th>\n",
       "      <th>marketEngName</th>\n",
       "      <th>ord1</th>\n",
       "      <th>ord2</th>\n",
       "    </tr>\n",
       "  </thead>\n",
       "  <tbody>\n",
       "    <tr>\n",
       "      <th>0</th>\n",
       "      <td>KR7005930003</td>\n",
       "      <td>005930</td>\n",
       "      <td>삼성전자</td>\n",
       "      <td>STK</td>\n",
       "      <td>유가증권</td>\n",
       "      <td>KOSPI</td>\n",
       "      <td>1</td>\n",
       "      <td>16</td>\n",
       "    </tr>\n",
       "    <tr>\n",
       "      <th>1</th>\n",
       "      <td>KR7005931001</td>\n",
       "      <td>005935</td>\n",
       "      <td>삼성전자우</td>\n",
       "      <td>STK</td>\n",
       "      <td>유가증권</td>\n",
       "      <td>KOSPI</td>\n",
       "      <td>1</td>\n",
       "      <td>16</td>\n",
       "    </tr>\n",
       "  </tbody>\n",
       "</table>\n",
       "</div>"
      ],
      "text/plain": [
       "      full_code short_code codeName marketCode marketName marketEngName ord1  \\\n",
       "0  KR7005930003     005930     삼성전자        STK       유가증권         KOSPI    1   \n",
       "1  KR7005931001     005935    삼성전자우        STK       유가증권         KOSPI    1   \n",
       "\n",
       "  ord2  \n",
       "0   16  \n",
       "1   16  "
      ]
     },
     "execution_count": 37,
     "metadata": {},
     "output_type": "execute_result"
    }
   ],
   "source": [
    "from pykrx.website.krx.krxio import KrxWebIo\n",
    "from pykrx.website.krx.market import core\n",
    "io = core.상장종목검색()\n",
    "io.fetch('STK', '삼성전자') #코스피 : STK, 코스닥 : KSQ, 전체 : ALL"
   ]
  },
  {
   "cell_type": "markdown",
   "id": "a23902ad",
   "metadata": {},
   "source": [
    "## 종목 명으로 종목 코드 읽어오기"
   ]
  },
  {
   "cell_type": "code",
   "execution_count": null,
   "id": "01d2c172",
   "metadata": {},
   "outputs": [],
   "source": [
    "#특정 기간 동안의 주가정보\n",
    "stock_price = stock.get_market_ohlcv(\"20220101\", \"20220401\", \"005930\")\n",
    "stock_name = ticker.get_stock_name(\"005930\")\n",
    "stock_price['종목명'] = stock_name\n",
    "# print(stock_name)\n",
    "stock_price"
   ]
  }
 ],
 "metadata": {
  "kernelspec": {
   "display_name": "Python 3 (ipykernel)",
   "language": "python",
   "name": "python3"
  },
  "language_info": {
   "codemirror_mode": {
    "name": "ipython",
    "version": 3
   },
   "file_extension": ".py",
   "mimetype": "text/x-python",
   "name": "python",
   "nbconvert_exporter": "python",
   "pygments_lexer": "ipython3",
   "version": "3.9.7"
  }
 },
 "nbformat": 4,
 "nbformat_minor": 5
}
